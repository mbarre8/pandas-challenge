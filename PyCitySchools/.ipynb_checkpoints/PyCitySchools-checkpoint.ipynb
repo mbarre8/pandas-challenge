{
 "cells": [
  {
   "cell_type": "markdown",
   "id": "5b34e559",
   "metadata": {},
   "source": [
    "PyCity Schools Analysis"
   ]
  },
  {
   "cell_type": "code",
   "execution_count": 62,
   "id": "e809afbf",
   "metadata": {},
   "outputs": [],
   "source": [
    "#Dependencies\n",
    "import pandas as pd"
   ]
  },
  {
   "cell_type": "code",
   "execution_count": 63,
   "id": "ca1a496c",
   "metadata": {
    "scrolled": true
   },
   "outputs": [
    {
     "data": {
      "text/html": [
       "<div>\n",
       "<style scoped>\n",
       "    .dataframe tbody tr th:only-of-type {\n",
       "        vertical-align: middle;\n",
       "    }\n",
       "\n",
       "    .dataframe tbody tr th {\n",
       "        vertical-align: top;\n",
       "    }\n",
       "\n",
       "    .dataframe thead th {\n",
       "        text-align: right;\n",
       "    }\n",
       "</style>\n",
       "<table border=\"1\" class=\"dataframe\">\n",
       "  <thead>\n",
       "    <tr style=\"text-align: right;\">\n",
       "      <th></th>\n",
       "      <th>Student ID</th>\n",
       "      <th>student_name</th>\n",
       "      <th>gender</th>\n",
       "      <th>grade</th>\n",
       "      <th>school_name</th>\n",
       "      <th>reading_score</th>\n",
       "      <th>math_score</th>\n",
       "      <th>School ID</th>\n",
       "      <th>type</th>\n",
       "      <th>size</th>\n",
       "      <th>budget</th>\n",
       "    </tr>\n",
       "  </thead>\n",
       "  <tbody>\n",
       "    <tr>\n",
       "      <th>0</th>\n",
       "      <td>0</td>\n",
       "      <td>Paul Bradley</td>\n",
       "      <td>M</td>\n",
       "      <td>9th</td>\n",
       "      <td>Huang High School</td>\n",
       "      <td>66</td>\n",
       "      <td>79</td>\n",
       "      <td>0</td>\n",
       "      <td>District</td>\n",
       "      <td>2917</td>\n",
       "      <td>1910635</td>\n",
       "    </tr>\n",
       "    <tr>\n",
       "      <th>1</th>\n",
       "      <td>1</td>\n",
       "      <td>Victor Smith</td>\n",
       "      <td>M</td>\n",
       "      <td>12th</td>\n",
       "      <td>Huang High School</td>\n",
       "      <td>94</td>\n",
       "      <td>61</td>\n",
       "      <td>0</td>\n",
       "      <td>District</td>\n",
       "      <td>2917</td>\n",
       "      <td>1910635</td>\n",
       "    </tr>\n",
       "    <tr>\n",
       "      <th>2</th>\n",
       "      <td>2</td>\n",
       "      <td>Kevin Rodriguez</td>\n",
       "      <td>M</td>\n",
       "      <td>12th</td>\n",
       "      <td>Huang High School</td>\n",
       "      <td>90</td>\n",
       "      <td>60</td>\n",
       "      <td>0</td>\n",
       "      <td>District</td>\n",
       "      <td>2917</td>\n",
       "      <td>1910635</td>\n",
       "    </tr>\n",
       "    <tr>\n",
       "      <th>3</th>\n",
       "      <td>3</td>\n",
       "      <td>Dr. Richard Scott</td>\n",
       "      <td>M</td>\n",
       "      <td>12th</td>\n",
       "      <td>Huang High School</td>\n",
       "      <td>67</td>\n",
       "      <td>58</td>\n",
       "      <td>0</td>\n",
       "      <td>District</td>\n",
       "      <td>2917</td>\n",
       "      <td>1910635</td>\n",
       "    </tr>\n",
       "    <tr>\n",
       "      <th>4</th>\n",
       "      <td>4</td>\n",
       "      <td>Bonnie Ray</td>\n",
       "      <td>F</td>\n",
       "      <td>9th</td>\n",
       "      <td>Huang High School</td>\n",
       "      <td>97</td>\n",
       "      <td>84</td>\n",
       "      <td>0</td>\n",
       "      <td>District</td>\n",
       "      <td>2917</td>\n",
       "      <td>1910635</td>\n",
       "    </tr>\n",
       "  </tbody>\n",
       "</table>\n",
       "</div>"
      ],
      "text/plain": [
       "   Student ID       student_name gender grade        school_name  \\\n",
       "0           0       Paul Bradley      M   9th  Huang High School   \n",
       "1           1       Victor Smith      M  12th  Huang High School   \n",
       "2           2    Kevin Rodriguez      M  12th  Huang High School   \n",
       "3           3  Dr. Richard Scott      M  12th  Huang High School   \n",
       "4           4         Bonnie Ray      F   9th  Huang High School   \n",
       "\n",
       "   reading_score  math_score  School ID      type  size   budget  \n",
       "0             66          79          0  District  2917  1910635  \n",
       "1             94          61          0  District  2917  1910635  \n",
       "2             90          60          0  District  2917  1910635  \n",
       "3             67          58          0  District  2917  1910635  \n",
       "4             97          84          0  District  2917  1910635  "
      ]
     },
     "execution_count": 63,
     "metadata": {},
     "output_type": "execute_result"
    }
   ],
   "source": [
    "#Path to files \n",
    "School_file=\"Resources/schools_complete.csv\"\n",
    "Student_file=\"Resources/students_complete.csv\"\n",
    "\n",
    "#Read csv files and store in pandas dataframe\n",
    "School_file_df=pd.read_csv(School_file)\n",
    "Student_file_df=pd.read_csv(Student_file)\n",
    "\n",
    "#combine the 2 files data into one dataset\n",
    "Combined_schools_data_df = pd.merge(Student_file_df, School_file_df, how=\"left\",on=[\"school_name\",\"school_name\"])\n",
    "Combined_schools_data_df.head()\n"
   ]
  },
  {
   "cell_type": "markdown",
   "id": "95f9433b",
   "metadata": {},
   "source": [
    "District Summary"
   ]
  },
  {
   "cell_type": "code",
   "execution_count": 64,
   "id": "34f3078f",
   "metadata": {},
   "outputs": [
    {
     "name": "stdout",
     "output_type": "stream",
     "text": [
      "15\n"
     ]
    }
   ],
   "source": [
    "#used combined dataset to get total schools in district\n",
    "school_count=len(Combined_schools_data_df[\"school_name\"].unique())\n",
    "print(school_count)"
   ]
  },
  {
   "cell_type": "code",
   "execution_count": 65,
   "id": "a380eef5",
   "metadata": {},
   "outputs": [
    {
     "name": "stdout",
     "output_type": "stream",
     "text": [
      "39170\n"
     ]
    }
   ],
   "source": [
    "#Used combined dataset to get total students in district\n",
    "student_count= len(Combined_schools_data_df[\"student_name\"])\n",
    "print(student_count)"
   ]
  },
  {
   "cell_type": "code",
   "execution_count": 66,
   "id": "53aae3bf",
   "metadata": {},
   "outputs": [
    {
     "name": "stdout",
     "output_type": "stream",
     "text": [
      "24649428\n"
     ]
    }
   ],
   "source": [
    "#used schools dataframe to get total budget in district\n",
    "total_budget= School_file_df[\"budget\"].sum()\n",
    "print(total_budget)"
   ]
  },
  {
   "cell_type": "code",
   "execution_count": 67,
   "id": "913920f1",
   "metadata": {},
   "outputs": [
    {
     "name": "stdout",
     "output_type": "stream",
     "text": [
      "78.98537145774827\n"
     ]
    }
   ],
   "source": [
    "#calculate average math score but getting mean of entire \"math_score\" column\n",
    "average_math_score=(Combined_schools_data_df[\"math_score\"]).mean()\n",
    "print(average_math_score)"
   ]
  },
  {
   "cell_type": "code",
   "execution_count": 68,
   "id": "6cc4824c",
   "metadata": {},
   "outputs": [
    {
     "name": "stdout",
     "output_type": "stream",
     "text": [
      "81.87784018381414\n"
     ]
    }
   ],
   "source": [
    "#calculate average reading score but getting mean of entire \"reading_score\" column\n",
    "average_reading_score=(Combined_schools_data_df[\"reading_score\"]).mean()\n",
    "print(average_reading_score)"
   ]
  },
  {
   "cell_type": "code",
   "execution_count": 69,
   "id": "2117bf21",
   "metadata": {},
   "outputs": [
    {
     "data": {
      "text/plain": [
       "74.9808526933878"
      ]
     },
     "execution_count": 69,
     "metadata": {},
     "output_type": "execute_result"
    }
   ],
   "source": [
    "#used combined dataset to filter the number of students whos math scores where above 70 and divided that value by total student in district\n",
    "passed_math_count=Combined_schools_data_df[(Combined_schools_data_df[\"math_score\"]>=70)].count()[\"student_name\"]\n",
    "percent_passed_math= passed_math_count/float(student_count) * 100\n",
    "percent_passed_math"
   ]
  },
  {
   "cell_type": "code",
   "execution_count": 70,
   "id": "57e27ab5",
   "metadata": {},
   "outputs": [
    {
     "data": {
      "text/plain": [
       "85.80546336482001"
      ]
     },
     "execution_count": 70,
     "metadata": {},
     "output_type": "execute_result"
    }
   ],
   "source": [
    "#used combined dataset to filter the number of students whos reading scores where above 70 and divided that value by total student in district\n",
    "passed_reading_count=Combined_schools_data_df[(Combined_schools_data_df[\"reading_score\"]>=70)].count()[\"student_name\"]\n",
    "percent_passed_reading= passed_reading_count/float(student_count) * 100\n",
    "percent_passed_reading"
   ]
  },
  {
   "cell_type": "code",
   "execution_count": 71,
   "id": "8d07406c",
   "metadata": {},
   "outputs": [
    {
     "data": {
      "text/plain": [
       "65.17232575950983"
      ]
     },
     "execution_count": 71,
     "metadata": {},
     "output_type": "execute_result"
    }
   ],
   "source": [
    "#used combined dataset to filter the number of students whos math and reading scores where above 70 and divided that value by total student in district\n",
    "passed_math_reading_count=Combined_schools_data_df[(Combined_schools_data_df[\"math_score\"]>=70) & (Combined_schools_data_df[\"reading_score\"]>=70)].count()[\"student_name\"]\n",
    "percent_passed_overall=passed_math_reading_count/ float(student_count)*100\n",
    "percent_passed_overall"
   ]
  },
  {
   "cell_type": "code",
   "execution_count": 72,
   "id": "19516dd1",
   "metadata": {},
   "outputs": [
    {
     "data": {
      "text/html": [
       "<div>\n",
       "<style scoped>\n",
       "    .dataframe tbody tr th:only-of-type {\n",
       "        vertical-align: middle;\n",
       "    }\n",
       "\n",
       "    .dataframe tbody tr th {\n",
       "        vertical-align: top;\n",
       "    }\n",
       "\n",
       "    .dataframe thead th {\n",
       "        text-align: right;\n",
       "    }\n",
       "</style>\n",
       "<table border=\"1\" class=\"dataframe\">\n",
       "  <thead>\n",
       "    <tr style=\"text-align: right;\">\n",
       "      <th></th>\n",
       "      <th>Total Schools</th>\n",
       "      <th>Total Students</th>\n",
       "      <th>Total Budget</th>\n",
       "      <th>Average Math Score</th>\n",
       "      <th>Average Reading Score</th>\n",
       "      <th>% Passing Math</th>\n",
       "      <th>% Passing Reading</th>\n",
       "      <th>% Overall Passing</th>\n",
       "    </tr>\n",
       "  </thead>\n",
       "  <tbody>\n",
       "    <tr>\n",
       "      <th>0</th>\n",
       "      <td>15</td>\n",
       "      <td>39,170</td>\n",
       "      <td>$24,649,428.00</td>\n",
       "      <td>78.985371</td>\n",
       "      <td>81.87784</td>\n",
       "      <td>74.980853%</td>\n",
       "      <td>85.805463%</td>\n",
       "      <td>65.172326%</td>\n",
       "    </tr>\n",
       "  </tbody>\n",
       "</table>\n",
       "</div>"
      ],
      "text/plain": [
       "   Total Schools Total Students    Total Budget  Average Math Score  \\\n",
       "0             15         39,170  $24,649,428.00           78.985371   \n",
       "\n",
       "   Average Reading Score % Passing Math % Passing Reading % Overall Passing  \n",
       "0               81.87784     74.980853%        85.805463%        65.172326%  "
      ]
     },
     "execution_count": 72,
     "metadata": {},
     "output_type": "execute_result"
    }
   ],
   "source": [
    "#Created dataframe with a dictionary, created column names with corresponding value containing calculations from above lines\n",
    "District_Summary = pd.DataFrame({\"Total Schools\":[school_count],\"Total Students\":[student_count], \"Total Budget\": [total_budget], \"Average Math Score\": [average_math_score],\"Average Reading Score\":[average_reading_score],\"% Passing Math\":[percent_passed_math], \"% Passing Reading\":[percent_passed_reading], \"% Overall Passing\":[percent_passed_overall]})\n",
    "#Formatting columns \n",
    "District_Summary[\"Total Students\"] = District_Summary[\"Total Students\"].map(\"{:,}\".format)\n",
    "District_Summary[\"Total Budget\"] = District_Summary[\"Total Budget\"].map(\"${:,.2f}\".format)\n",
    "District_Summary[[\"% Passing Math\",\"% Passing Reading\",\"% Overall Passing\"]] = District_Summary[[\"% Passing Math\",\"% Passing Reading\",\"% Overall Passing\"]].applymap(\"{:,.6f}%\".format)\n",
    "\n",
    "District_Summary"
   ]
  },
  {
   "cell_type": "markdown",
   "id": "4a27d453",
   "metadata": {},
   "source": [
    "School Summary"
   ]
  },
  {
   "cell_type": "code",
   "execution_count": 73,
   "id": "9a5f2bc2",
   "metadata": {},
   "outputs": [
    {
     "data": {
      "text/plain": [
       "school_name\n",
       "Huang High School        District\n",
       "Figueroa High School     District\n",
       "Shelton High School       Charter\n",
       "Hernandez High School    District\n",
       "Griffin High School       Charter\n",
       "Wilson High School        Charter\n",
       "Cabrera High School       Charter\n",
       "Bailey High School       District\n",
       "Holden High School        Charter\n",
       "Pena High School          Charter\n",
       "Wright High School        Charter\n",
       "Rodriguez High School    District\n",
       "Johnson High School      District\n",
       "Ford High School         District\n",
       "Thomas High School        Charter\n",
       "Name: type, dtype: object"
      ]
     },
     "execution_count": 73,
     "metadata": {},
     "output_type": "execute_result"
    }
   ],
   "source": [
    "#school type for each school\n",
    "School_Types= School_file_df.set_index([\"school_name\"])[\"type\"]\n",
    "School_Types"
   ]
  },
  {
   "cell_type": "code",
   "execution_count": 74,
   "id": "bb23eea2",
   "metadata": {},
   "outputs": [
    {
     "data": {
      "text/plain": [
       "school_name\n",
       "Bailey High School       4976\n",
       "Cabrera High School      1858\n",
       "Figueroa High School     2949\n",
       "Ford High School         2739\n",
       "Griffin High School      1468\n",
       "Hernandez High School    4635\n",
       "Holden High School        427\n",
       "Huang High School        2917\n",
       "Johnson High School      4761\n",
       "Pena High School          962\n",
       "Rodriguez High School    3999\n",
       "Shelton High School      1761\n",
       "Thomas High School       1635\n",
       "Wilson High School       2283\n",
       "Wright High School       1800\n",
       "Name: student_name, dtype: int64"
      ]
     },
     "execution_count": 74,
     "metadata": {},
     "output_type": "execute_result"
    }
   ],
   "source": [
    "#Use combined dataset to group by schools\n",
    "Schools=Combined_schools_data_df.set_index([\"school_name\"]).groupby([\"school_name\"])\n",
    "\n",
    "Total_Students_per_school= Schools[\"student_name\"].count()\n",
    "\n",
    "Total_Students_per_school"
   ]
  },
  {
   "cell_type": "code",
   "execution_count": 75,
   "id": "c2d60a06",
   "metadata": {},
   "outputs": [
    {
     "data": {
      "text/plain": [
       "school_name\n",
       "Bailey High School       628.0\n",
       "Cabrera High School      582.0\n",
       "Figueroa High School     639.0\n",
       "Ford High School         644.0\n",
       "Griffin High School      625.0\n",
       "Hernandez High School    652.0\n",
       "Holden High School       581.0\n",
       "Huang High School        655.0\n",
       "Johnson High School      650.0\n",
       "Pena High School         609.0\n",
       "Rodriguez High School    637.0\n",
       "Shelton High School      600.0\n",
       "Thomas High School       638.0\n",
       "Wilson High School       578.0\n",
       "Wright High School       583.0\n",
       "dtype: float64"
      ]
     },
     "execution_count": 75,
     "metadata": {},
     "output_type": "execute_result"
    }
   ],
   "source": [
    "#Budget per school\n",
    "Budget_Per_School = School_file_df.groupby([\"school_name\"]).mean()[\"budget\"]\n",
    "Budget_Per_School\n",
    "#Budget allocated per student\n",
    "Per_School_Capita = Budget_Per_School / Total_Students_per_school\n",
    "Per_School_Capita"
   ]
  },
  {
   "cell_type": "code",
   "execution_count": 76,
   "id": "0bda8b40",
   "metadata": {
    "scrolled": true
   },
   "outputs": [
    {
     "data": {
      "text/plain": [
       "school_name\n",
       "Bailey High School       81.033963\n",
       "Cabrera High School      83.975780\n",
       "Figueroa High School     81.158020\n",
       "Ford High School         80.746258\n",
       "Griffin High School      83.816757\n",
       "Hernandez High School    80.934412\n",
       "Holden High School       83.814988\n",
       "Huang High School        81.182722\n",
       "Johnson High School      80.966394\n",
       "Pena High School         84.044699\n",
       "Rodriguez High School    80.744686\n",
       "Shelton High School      83.725724\n",
       "Thomas High School       83.848930\n",
       "Wilson High School       83.989488\n",
       "Wright High School       83.955000\n",
       "Name: reading_score, dtype: float64"
      ]
     },
     "execution_count": 76,
     "metadata": {},
     "output_type": "execute_result"
    }
   ],
   "source": [
    "#Calculating average math schools per school\n",
    "per_school_math = Schools[\"math_score\"].mean()\n",
    "per_school_math\n",
    "#Calculating average reading schools per school\n",
    "per_school_reading = Schools[\"reading_score\"].mean()\n",
    "per_school_reading"
   ]
  },
  {
   "cell_type": "code",
   "execution_count": null,
   "id": "10805ff3",
   "metadata": {},
   "outputs": [],
   "source": []
  }
 ],
 "metadata": {
  "kernelspec": {
   "display_name": "Python 3 (ipykernel)",
   "language": "python",
   "name": "python3"
  },
  "language_info": {
   "codemirror_mode": {
    "name": "ipython",
    "version": 3
   },
   "file_extension": ".py",
   "mimetype": "text/x-python",
   "name": "python",
   "nbconvert_exporter": "python",
   "pygments_lexer": "ipython3",
   "version": "3.9.13"
  }
 },
 "nbformat": 4,
 "nbformat_minor": 5
}
